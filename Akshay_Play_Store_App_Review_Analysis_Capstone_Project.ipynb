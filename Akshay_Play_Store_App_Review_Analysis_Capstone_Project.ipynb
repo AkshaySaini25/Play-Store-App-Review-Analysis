{
  "cells": [
    {
      "cell_type": "markdown",
      "metadata": {
        "id": "view-in-github",
        "colab_type": "text"
      },
      "source": [
        "<a href=\"https://colab.research.google.com/github/AkshaySaini25/Play-Store-App-Review-Analysis/blob/main/Akshay_Play_Store_App_Review_Analysis_Capstone_Project.ipynb\" target=\"_parent\"><img src=\"https://colab.research.google.com/assets/colab-badge.svg\" alt=\"Open In Colab\"/></a>"
      ]
    },
    {
      "cell_type": "markdown",
      "metadata": {
        "id": "Y06xIdG26kRF"
      },
      "source": [
        "## <b> The Play Store apps data has enormous potential to drive app-making businesses to success. Actionable insights can be drawn for developers to work on and capture the Android market. </b>\n",
        "\n",
        "## <b> Each app (row) has values for catergory, rating, size, and more. Another dataset contains customer reviews of the android apps.</b>\n",
        "\n",
        "## <b> Explore and analyze the data to discover key factors responsible for app engagement and success. </b>"
      ]
    },
    {
      "cell_type": "code",
      "execution_count": null,
      "metadata": {
        "id": "6Mb9SClhVsCZ"
      },
      "outputs": [],
      "source": [
        "import pandas as pd\n",
        "import ast\n",
        "import matplotlib.pyplot as plt\n",
        "import numpy as np\n",
        "import seaborn as sns\n",
        "from datetime import datetime\n",
        "from datetime import timedelta"
      ]
    },
    {
      "cell_type": "code",
      "execution_count": null,
      "metadata": {
        "id": "FLVH5r0zVnnb"
      },
      "outputs": [],
      "source": [
        "data=pd.read_csv('C:/Users/ak663/Desktop/Capstone Project/Play Store Data.csv')"
      ]
    },
    {
      "cell_type": "code",
      "execution_count": null,
      "metadata": {
        "id": "6B6eklG8sMkD",
        "outputId": "8d0fc8a0-5cec-4886-f7a9-82ba4c5cc853"
      },
      "outputs": [
        {
          "data": {
            "text/html": [
              "<div>\n",
              "<style scoped>\n",
              "    .dataframe tbody tr th:only-of-type {\n",
              "        vertical-align: middle;\n",
              "    }\n",
              "\n",
              "    .dataframe tbody tr th {\n",
              "        vertical-align: top;\n",
              "    }\n",
              "\n",
              "    .dataframe thead th {\n",
              "        text-align: right;\n",
              "    }\n",
              "</style>\n",
              "<table border=\"1\" class=\"dataframe\">\n",
              "  <thead>\n",
              "    <tr style=\"text-align: right;\">\n",
              "      <th></th>\n",
              "      <th>App</th>\n",
              "      <th>Category</th>\n",
              "      <th>Rating</th>\n",
              "      <th>Reviews</th>\n",
              "      <th>Size</th>\n",
              "      <th>Installs</th>\n",
              "      <th>Type</th>\n",
              "      <th>Price</th>\n",
              "      <th>Content Rating</th>\n",
              "      <th>Genres</th>\n",
              "      <th>Last Updated</th>\n",
              "      <th>Current Ver</th>\n",
              "      <th>Android Ver</th>\n",
              "    </tr>\n",
              "  </thead>\n",
              "  <tbody>\n",
              "    <tr>\n",
              "      <th>10472</th>\n",
              "      <td>Life Made WI-Fi Touchscreen Photo Frame</td>\n",
              "      <td>1.9</td>\n",
              "      <td>19.0</td>\n",
              "      <td>3.0M</td>\n",
              "      <td>1,000+</td>\n",
              "      <td>Free</td>\n",
              "      <td>0</td>\n",
              "      <td>Everyone</td>\n",
              "      <td>NaN</td>\n",
              "      <td>February 11, 2018</td>\n",
              "      <td>1.0.19</td>\n",
              "      <td>4.0 and up</td>\n",
              "      <td>NaN</td>\n",
              "    </tr>\n",
              "  </tbody>\n",
              "</table>\n",
              "</div>"
            ],
            "text/plain": [
              "                                           App Category  Rating Reviews  \\\n",
              "10472  Life Made WI-Fi Touchscreen Photo Frame      1.9    19.0    3.0M   \n",
              "\n",
              "         Size Installs Type     Price Content Rating             Genres  \\\n",
              "10472  1,000+     Free    0  Everyone            NaN  February 11, 2018   \n",
              "\n",
              "      Last Updated Current Ver Android Ver  \n",
              "10472       1.0.19  4.0 and up         NaN  "
            ]
          },
          "execution_count": 223,
          "metadata": {},
          "output_type": "execute_result"
        }
      ],
      "source": [
        "data[data['Installs']=='Free']"
      ]
    },
    {
      "cell_type": "code",
      "execution_count": null,
      "metadata": {
        "id": "t7ZYHDnLsMkE"
      },
      "outputs": [],
      "source": [
        "data.drop(10472,inplace =True)"
      ]
    },
    {
      "cell_type": "code",
      "execution_count": null,
      "metadata": {
        "id": "j7WPqHw-sMkE",
        "outputId": "3611350d-6d8b-4ea8-9062-81576ef5f641"
      },
      "outputs": [
        {
          "data": {
            "text/html": [
              "<div>\n",
              "<style scoped>\n",
              "    .dataframe tbody tr th:only-of-type {\n",
              "        vertical-align: middle;\n",
              "    }\n",
              "\n",
              "    .dataframe tbody tr th {\n",
              "        vertical-align: top;\n",
              "    }\n",
              "\n",
              "    .dataframe thead th {\n",
              "        text-align: right;\n",
              "    }\n",
              "</style>\n",
              "<table border=\"1\" class=\"dataframe\">\n",
              "  <thead>\n",
              "    <tr style=\"text-align: right;\">\n",
              "      <th></th>\n",
              "      <th>App</th>\n",
              "      <th>Category</th>\n",
              "      <th>Rating</th>\n",
              "      <th>Reviews</th>\n",
              "      <th>Size</th>\n",
              "      <th>Installs</th>\n",
              "      <th>Type</th>\n",
              "      <th>Price</th>\n",
              "      <th>Content Rating</th>\n",
              "      <th>Genres</th>\n",
              "      <th>Last Updated</th>\n",
              "      <th>Current Ver</th>\n",
              "      <th>Android Ver</th>\n",
              "      <th>Installs_int</th>\n",
              "      <th>Reviews_int</th>\n",
              "      <th>Price_int</th>\n",
              "      <th>Size_int</th>\n",
              "    </tr>\n",
              "  </thead>\n",
              "  <tbody>\n",
              "    <tr>\n",
              "      <th>234</th>\n",
              "      <td>TurboScan: scan documents and receipts in PDF</td>\n",
              "      <td>BUSINESS</td>\n",
              "      <td>4.7</td>\n",
              "      <td>11442</td>\n",
              "      <td>6.8M</td>\n",
              "      <td>100,000+</td>\n",
              "      <td>Paid</td>\n",
              "      <td>$4.99</td>\n",
              "      <td>Everyone</td>\n",
              "      <td>Business</td>\n",
              "      <td>March 25, 2018</td>\n",
              "      <td>1.5.2</td>\n",
              "      <td>4.0 and up</td>\n",
              "      <td>100000.0</td>\n",
              "      <td>11442.0</td>\n",
              "      <td>4.99</td>\n",
              "      <td>6.80</td>\n",
              "    </tr>\n",
              "    <tr>\n",
              "      <th>235</th>\n",
              "      <td>Tiny Scanner Pro: PDF Doc Scan</td>\n",
              "      <td>BUSINESS</td>\n",
              "      <td>4.8</td>\n",
              "      <td>10295</td>\n",
              "      <td>39M</td>\n",
              "      <td>100,000+</td>\n",
              "      <td>Paid</td>\n",
              "      <td>$4.99</td>\n",
              "      <td>Everyone</td>\n",
              "      <td>Business</td>\n",
              "      <td>April 11, 2017</td>\n",
              "      <td>3.4.6</td>\n",
              "      <td>3.0 and up</td>\n",
              "      <td>100000.0</td>\n",
              "      <td>10295.0</td>\n",
              "      <td>4.99</td>\n",
              "      <td>39.00</td>\n",
              "    </tr>\n",
              "    <tr>\n",
              "      <th>290</th>\n",
              "      <td>TurboScan: scan documents and receipts in PDF</td>\n",
              "      <td>BUSINESS</td>\n",
              "      <td>4.7</td>\n",
              "      <td>11442</td>\n",
              "      <td>6.8M</td>\n",
              "      <td>100,000+</td>\n",
              "      <td>Paid</td>\n",
              "      <td>$4.99</td>\n",
              "      <td>Everyone</td>\n",
              "      <td>Business</td>\n",
              "      <td>March 25, 2018</td>\n",
              "      <td>1.5.2</td>\n",
              "      <td>4.0 and up</td>\n",
              "      <td>100000.0</td>\n",
              "      <td>11442.0</td>\n",
              "      <td>4.99</td>\n",
              "      <td>6.80</td>\n",
              "    </tr>\n",
              "    <tr>\n",
              "      <th>291</th>\n",
              "      <td>Tiny Scanner Pro: PDF Doc Scan</td>\n",
              "      <td>BUSINESS</td>\n",
              "      <td>4.8</td>\n",
              "      <td>10295</td>\n",
              "      <td>39M</td>\n",
              "      <td>100,000+</td>\n",
              "      <td>Paid</td>\n",
              "      <td>$4.99</td>\n",
              "      <td>Everyone</td>\n",
              "      <td>Business</td>\n",
              "      <td>April 11, 2017</td>\n",
              "      <td>3.4.6</td>\n",
              "      <td>3.0 and up</td>\n",
              "      <td>100000.0</td>\n",
              "      <td>10295.0</td>\n",
              "      <td>4.99</td>\n",
              "      <td>39.00</td>\n",
              "    </tr>\n",
              "    <tr>\n",
              "      <th>427</th>\n",
              "      <td>Puffin Browser Pro</td>\n",
              "      <td>COMMUNICATION</td>\n",
              "      <td>4.0</td>\n",
              "      <td>18247</td>\n",
              "      <td>Varies with device</td>\n",
              "      <td>100,000+</td>\n",
              "      <td>Paid</td>\n",
              "      <td>$3.99</td>\n",
              "      <td>Everyone</td>\n",
              "      <td>Communication</td>\n",
              "      <td>July 5, 2018</td>\n",
              "      <td>7.5.3.20547</td>\n",
              "      <td>4.1 and up</td>\n",
              "      <td>100000.0</td>\n",
              "      <td>18247.0</td>\n",
              "      <td>3.99</td>\n",
              "      <td>0.00</td>\n",
              "    </tr>\n",
              "    <tr>\n",
              "      <th>...</th>\n",
              "      <td>...</td>\n",
              "      <td>...</td>\n",
              "      <td>...</td>\n",
              "      <td>...</td>\n",
              "      <td>...</td>\n",
              "      <td>...</td>\n",
              "      <td>...</td>\n",
              "      <td>...</td>\n",
              "      <td>...</td>\n",
              "      <td>...</td>\n",
              "      <td>...</td>\n",
              "      <td>...</td>\n",
              "      <td>...</td>\n",
              "      <td>...</td>\n",
              "      <td>...</td>\n",
              "      <td>...</td>\n",
              "      <td>...</td>\n",
              "    </tr>\n",
              "    <tr>\n",
              "      <th>10735</th>\n",
              "      <td>FP VoiceBot</td>\n",
              "      <td>FAMILY</td>\n",
              "      <td>NaN</td>\n",
              "      <td>17</td>\n",
              "      <td>157k</td>\n",
              "      <td>100+</td>\n",
              "      <td>Paid</td>\n",
              "      <td>$0.99</td>\n",
              "      <td>Mature 17+</td>\n",
              "      <td>Entertainment</td>\n",
              "      <td>November 25, 2015</td>\n",
              "      <td>1.2</td>\n",
              "      <td>2.1 and up</td>\n",
              "      <td>100.0</td>\n",
              "      <td>17.0</td>\n",
              "      <td>0.99</td>\n",
              "      <td>0.15</td>\n",
              "    </tr>\n",
              "    <tr>\n",
              "      <th>10760</th>\n",
              "      <td>Fast Tract Diet</td>\n",
              "      <td>HEALTH_AND_FITNESS</td>\n",
              "      <td>4.4</td>\n",
              "      <td>35</td>\n",
              "      <td>2.4M</td>\n",
              "      <td>1,000+</td>\n",
              "      <td>Paid</td>\n",
              "      <td>$7.99</td>\n",
              "      <td>Everyone</td>\n",
              "      <td>Health &amp; Fitness</td>\n",
              "      <td>August 8, 2018</td>\n",
              "      <td>1.9.3</td>\n",
              "      <td>4.2 and up</td>\n",
              "      <td>1000.0</td>\n",
              "      <td>35.0</td>\n",
              "      <td>7.99</td>\n",
              "      <td>2.40</td>\n",
              "    </tr>\n",
              "    <tr>\n",
              "      <th>10782</th>\n",
              "      <td>Trine 2: Complete Story</td>\n",
              "      <td>GAME</td>\n",
              "      <td>3.8</td>\n",
              "      <td>252</td>\n",
              "      <td>11M</td>\n",
              "      <td>10,000+</td>\n",
              "      <td>Paid</td>\n",
              "      <td>$16.99</td>\n",
              "      <td>Teen</td>\n",
              "      <td>Action</td>\n",
              "      <td>February 27, 2015</td>\n",
              "      <td>2.22</td>\n",
              "      <td>5.0 and up</td>\n",
              "      <td>10000.0</td>\n",
              "      <td>252.0</td>\n",
              "      <td>16.99</td>\n",
              "      <td>11.00</td>\n",
              "    </tr>\n",
              "    <tr>\n",
              "      <th>10785</th>\n",
              "      <td>sugar, sugar</td>\n",
              "      <td>FAMILY</td>\n",
              "      <td>4.2</td>\n",
              "      <td>1405</td>\n",
              "      <td>9.5M</td>\n",
              "      <td>10,000+</td>\n",
              "      <td>Paid</td>\n",
              "      <td>$1.20</td>\n",
              "      <td>Everyone</td>\n",
              "      <td>Puzzle</td>\n",
              "      <td>June 5, 2018</td>\n",
              "      <td>2.7</td>\n",
              "      <td>2.3 and up</td>\n",
              "      <td>10000.0</td>\n",
              "      <td>1405.0</td>\n",
              "      <td>1.20</td>\n",
              "      <td>9.50</td>\n",
              "    </tr>\n",
              "    <tr>\n",
              "      <th>10798</th>\n",
              "      <td>Word Search Tab 1 FR</td>\n",
              "      <td>FAMILY</td>\n",
              "      <td>NaN</td>\n",
              "      <td>0</td>\n",
              "      <td>1020k</td>\n",
              "      <td>50+</td>\n",
              "      <td>Paid</td>\n",
              "      <td>$1.04</td>\n",
              "      <td>Everyone</td>\n",
              "      <td>Puzzle</td>\n",
              "      <td>February 6, 2012</td>\n",
              "      <td>1.1</td>\n",
              "      <td>3.0 and up</td>\n",
              "      <td>50.0</td>\n",
              "      <td>0.0</td>\n",
              "      <td>1.04</td>\n",
              "      <td>1.00</td>\n",
              "    </tr>\n",
              "  </tbody>\n",
              "</table>\n",
              "<p>800 rows × 17 columns</p>\n",
              "</div>"
            ],
            "text/plain": [
              "                                                 App            Category  \\\n",
              "234    TurboScan: scan documents and receipts in PDF            BUSINESS   \n",
              "235                   Tiny Scanner Pro: PDF Doc Scan            BUSINESS   \n",
              "290    TurboScan: scan documents and receipts in PDF            BUSINESS   \n",
              "291                   Tiny Scanner Pro: PDF Doc Scan            BUSINESS   \n",
              "427                               Puffin Browser Pro       COMMUNICATION   \n",
              "...                                              ...                 ...   \n",
              "10735                                    FP VoiceBot              FAMILY   \n",
              "10760                                Fast Tract Diet  HEALTH_AND_FITNESS   \n",
              "10782                        Trine 2: Complete Story                GAME   \n",
              "10785                                   sugar, sugar              FAMILY   \n",
              "10798                           Word Search Tab 1 FR              FAMILY   \n",
              "\n",
              "       Rating Reviews                Size  Installs  Type   Price  \\\n",
              "234       4.7   11442                6.8M  100,000+  Paid   $4.99   \n",
              "235       4.8   10295                 39M  100,000+  Paid   $4.99   \n",
              "290       4.7   11442                6.8M  100,000+  Paid   $4.99   \n",
              "291       4.8   10295                 39M  100,000+  Paid   $4.99   \n",
              "427       4.0   18247  Varies with device  100,000+  Paid   $3.99   \n",
              "...       ...     ...                 ...       ...   ...     ...   \n",
              "10735     NaN      17                157k      100+  Paid   $0.99   \n",
              "10760     4.4      35                2.4M    1,000+  Paid   $7.99   \n",
              "10782     3.8     252                 11M   10,000+  Paid  $16.99   \n",
              "10785     4.2    1405                9.5M   10,000+  Paid   $1.20   \n",
              "10798     NaN       0               1020k       50+  Paid   $1.04   \n",
              "\n",
              "      Content Rating            Genres       Last Updated  Current Ver  \\\n",
              "234         Everyone          Business     March 25, 2018        1.5.2   \n",
              "235         Everyone          Business     April 11, 2017        3.4.6   \n",
              "290         Everyone          Business     March 25, 2018        1.5.2   \n",
              "291         Everyone          Business     April 11, 2017        3.4.6   \n",
              "427         Everyone     Communication       July 5, 2018  7.5.3.20547   \n",
              "...              ...               ...                ...          ...   \n",
              "10735     Mature 17+     Entertainment  November 25, 2015          1.2   \n",
              "10760       Everyone  Health & Fitness     August 8, 2018        1.9.3   \n",
              "10782           Teen            Action  February 27, 2015         2.22   \n",
              "10785       Everyone            Puzzle       June 5, 2018          2.7   \n",
              "10798       Everyone            Puzzle   February 6, 2012          1.1   \n",
              "\n",
              "      Android Ver  Installs_int  Reviews_int  Price_int  Size_int  \n",
              "234    4.0 and up      100000.0      11442.0       4.99      6.80  \n",
              "235    3.0 and up      100000.0      10295.0       4.99     39.00  \n",
              "290    4.0 and up      100000.0      11442.0       4.99      6.80  \n",
              "291    3.0 and up      100000.0      10295.0       4.99     39.00  \n",
              "427    4.1 and up      100000.0      18247.0       3.99      0.00  \n",
              "...           ...           ...          ...        ...       ...  \n",
              "10735  2.1 and up         100.0         17.0       0.99      0.15  \n",
              "10760  4.2 and up        1000.0         35.0       7.99      2.40  \n",
              "10782  5.0 and up       10000.0        252.0      16.99     11.00  \n",
              "10785  2.3 and up       10000.0       1405.0       1.20      9.50  \n",
              "10798  3.0 and up          50.0          0.0       1.04      1.00  \n",
              "\n",
              "[800 rows x 17 columns]"
            ]
          },
          "execution_count": 239,
          "metadata": {},
          "output_type": "execute_result"
        }
      ],
      "source": [
        "data[data['Type']=='Paid']"
      ]
    },
    {
      "cell_type": "markdown",
      "metadata": {
        "id": "D6ik93XysMkE"
      },
      "source": [
        "# Function for the info of data"
      ]
    },
    {
      "cell_type": "code",
      "execution_count": null,
      "metadata": {
        "id": "VFlNmw5dsMkE"
      },
      "outputs": [],
      "source": [
        "def printinfo():\n",
        "    temp = pd.DataFrame(index=data.columns)\n",
        "    temp['data_type'] = data.dtypes\n",
        "    temp['null_count'] = data.isnull().sum()\n",
        "    temp['unique_count'] = data.nunique()\n",
        "    return temp\n"
      ]
    },
    {
      "cell_type": "markdown",
      "metadata": {
        "id": "RldT9QBmsMkF"
      },
      "source": [
        "# Install(String to Integer)\n"
      ]
    },
    {
      "cell_type": "code",
      "execution_count": null,
      "metadata": {
        "id": "DMJT34wlsMkF"
      },
      "outputs": [],
      "source": [
        "#install String to Integer\n",
        "def installs_int(install): \n",
        "            if((type(install)==str) and (install[-1]=='+')):\n",
        "                install=install[:len(install)-1]\n",
        "                install=[i for i in install if i!=',']\n",
        "                install=\"\".join(install)\n",
        "                return float(install)\n",
        "            else:\n",
        "                return float(install)\n",
        "data['Installs_int']=data['Installs'].map(installs_int)"
      ]
    },
    {
      "cell_type": "markdown",
      "metadata": {
        "id": "Za9eojq4sMkF"
      },
      "source": [
        "# Price(String to Integer) "
      ]
    },
    {
      "cell_type": "code",
      "execution_count": null,
      "metadata": {
        "id": "jtrtB0dAsMkF"
      },
      "outputs": [],
      "source": [
        "#price String to Integer\n",
        "def price_int(price): \n",
        "            if((type(price)==str) and (price[0]=='$')):\n",
        "                price=price[1:]\n",
        "                return float(price)\n",
        "            else:\n",
        "                return float(price)\n",
        "#         except:\n",
        "#             if(type(review)==str):\n",
        "#                 return 0\n",
        "data['Price_int']=data['Price'].map(price_int)"
      ]
    },
    {
      "cell_type": "markdown",
      "metadata": {
        "id": "W69BaBgjsMkG"
      },
      "source": [
        "# Reviews(String to Integer)"
      ]
    },
    {
      "cell_type": "code",
      "execution_count": null,
      "metadata": {
        "id": "ncq5iiRmsMkG"
      },
      "outputs": [],
      "source": [
        "#reviews String to Integer\n",
        "def reviews_int(review): \n",
        "            if(type(review)==str):\n",
        "               \n",
        "                return float(review)\n",
        "            else:\n",
        "                return float(review)\n",
        "#         except:\n",
        "#             if(type(review)==str):\n",
        "#                 return 0\n",
        "data['Reviews_int']=data['Reviews'].map(reviews_int)"
      ]
    },
    {
      "cell_type": "markdown",
      "metadata": {
        "id": "fvxkVOACsMkG"
      },
      "source": [
        "# Size(String to Integer) "
      ]
    },
    {
      "cell_type": "code",
      "execution_count": null,
      "metadata": {
        "id": "7kLm5uavsMkG"
      },
      "outputs": [],
      "source": [
        "#size String to Integer\n",
        "def size_int(size): \n",
        "            if((type(size)==str) & (size[-1]=='M')):\n",
        "                size=size[:len(size)-1]\n",
        "                return float(size)\n",
        "            elif((type(size)==str) & (size[-1]=='k')):\n",
        "                size=size[:len(size)-1]\n",
        "                return round(float(size) /1024,2)\n",
        "            else:\n",
        "                return 0\n",
        "data['Size_int']=data['Size'].map(size_int)"
      ]
    },
    {
      "cell_type": "markdown",
      "metadata": {
        "id": "kXw6QoRfsMkG"
      },
      "source": [
        "# Converting Date And Time\n"
      ]
    },
    {
      "cell_type": "code",
      "execution_count": null,
      "metadata": {
        "id": "EBsjJAN4sMkH"
      },
      "outputs": [],
      "source": [
        ""
      ]
    },
    {
      "cell_type": "code",
      "execution_count": null,
      "metadata": {
        "id": "z8QZC1c0sMkH"
      },
      "outputs": [],
      "source": [
        "data['Rating'].fillna(data['Rating'].mean(),inplace = True)\n"
      ]
    },
    {
      "cell_type": "code",
      "execution_count": null,
      "metadata": {
        "id": "gaDgCKs6sMkH"
      },
      "outputs": [],
      "source": [
        "data.dropna(inplace=True)"
      ]
    },
    {
      "cell_type": "code",
      "execution_count": null,
      "metadata": {
        "id": "rpYS_4uFsMkH",
        "outputId": "55d99d73-dd50-4a13-b626-80e41145683b"
      },
      "outputs": [
        {
          "name": "stdout",
          "output_type": "stream",
          "text": [
            "<class 'pandas.core.frame.DataFrame'>\n",
            "Int64Index: 10829 entries, 0 to 10840\n",
            "Data columns (total 17 columns):\n",
            " #   Column          Non-Null Count  Dtype  \n",
            "---  ------          --------------  -----  \n",
            " 0   App             10829 non-null  object \n",
            " 1   Category        10829 non-null  object \n",
            " 2   Rating          10829 non-null  float64\n",
            " 3   Reviews         10829 non-null  object \n",
            " 4   Size            10829 non-null  object \n",
            " 5   Installs        10829 non-null  object \n",
            " 6   Type            10829 non-null  object \n",
            " 7   Price           10829 non-null  object \n",
            " 8   Content Rating  10829 non-null  object \n",
            " 9   Genres          10829 non-null  object \n",
            " 10  Last Updated    10829 non-null  object \n",
            " 11  Current Ver     10829 non-null  object \n",
            " 12  Android Ver     10829 non-null  object \n",
            " 13  Installs_int    10829 non-null  float64\n",
            " 14  Reviews_int     10829 non-null  float64\n",
            " 15  Price_int       10829 non-null  float64\n",
            " 16  Size_int        10829 non-null  float64\n",
            "dtypes: float64(5), object(12)\n",
            "memory usage: 1.5+ MB\n"
          ]
        }
      ],
      "source": [
        "data.info()"
      ]
    },
    {
      "cell_type": "code",
      "execution_count": null,
      "metadata": {
        "id": "9L9H4xGVsMkI",
        "outputId": "b6451d0e-88f7-414e-da8e-ffbd55a343fc"
      },
      "outputs": [
        {
          "data": {
            "text/html": [
              "<div>\n",
              "<style scoped>\n",
              "    .dataframe tbody tr th:only-of-type {\n",
              "        vertical-align: middle;\n",
              "    }\n",
              "\n",
              "    .dataframe tbody tr th {\n",
              "        vertical-align: top;\n",
              "    }\n",
              "\n",
              "    .dataframe thead th {\n",
              "        text-align: right;\n",
              "    }\n",
              "</style>\n",
              "<table border=\"1\" class=\"dataframe\">\n",
              "  <thead>\n",
              "    <tr style=\"text-align: right;\">\n",
              "      <th></th>\n",
              "      <th>data_type</th>\n",
              "      <th>null_count</th>\n",
              "      <th>unique_count</th>\n",
              "    </tr>\n",
              "  </thead>\n",
              "  <tbody>\n",
              "    <tr>\n",
              "      <th>App</th>\n",
              "      <td>object</td>\n",
              "      <td>0</td>\n",
              "      <td>9648</td>\n",
              "    </tr>\n",
              "    <tr>\n",
              "      <th>Category</th>\n",
              "      <td>object</td>\n",
              "      <td>0</td>\n",
              "      <td>33</td>\n",
              "    </tr>\n",
              "    <tr>\n",
              "      <th>Rating</th>\n",
              "      <td>float64</td>\n",
              "      <td>0</td>\n",
              "      <td>40</td>\n",
              "    </tr>\n",
              "    <tr>\n",
              "      <th>Reviews</th>\n",
              "      <td>object</td>\n",
              "      <td>0</td>\n",
              "      <td>5999</td>\n",
              "    </tr>\n",
              "    <tr>\n",
              "      <th>Size</th>\n",
              "      <td>object</td>\n",
              "      <td>0</td>\n",
              "      <td>457</td>\n",
              "    </tr>\n",
              "    <tr>\n",
              "      <th>Installs</th>\n",
              "      <td>object</td>\n",
              "      <td>0</td>\n",
              "      <td>20</td>\n",
              "    </tr>\n",
              "    <tr>\n",
              "      <th>Type</th>\n",
              "      <td>object</td>\n",
              "      <td>0</td>\n",
              "      <td>2</td>\n",
              "    </tr>\n",
              "    <tr>\n",
              "      <th>Price</th>\n",
              "      <td>object</td>\n",
              "      <td>0</td>\n",
              "      <td>92</td>\n",
              "    </tr>\n",
              "    <tr>\n",
              "      <th>Content Rating</th>\n",
              "      <td>object</td>\n",
              "      <td>0</td>\n",
              "      <td>6</td>\n",
              "    </tr>\n",
              "    <tr>\n",
              "      <th>Genres</th>\n",
              "      <td>object</td>\n",
              "      <td>0</td>\n",
              "      <td>119</td>\n",
              "    </tr>\n",
              "    <tr>\n",
              "      <th>Last Updated</th>\n",
              "      <td>object</td>\n",
              "      <td>0</td>\n",
              "      <td>1376</td>\n",
              "    </tr>\n",
              "    <tr>\n",
              "      <th>Current Ver</th>\n",
              "      <td>object</td>\n",
              "      <td>0</td>\n",
              "      <td>2831</td>\n",
              "    </tr>\n",
              "    <tr>\n",
              "      <th>Android Ver</th>\n",
              "      <td>object</td>\n",
              "      <td>0</td>\n",
              "      <td>33</td>\n",
              "    </tr>\n",
              "    <tr>\n",
              "      <th>Installs_int</th>\n",
              "      <td>float64</td>\n",
              "      <td>0</td>\n",
              "      <td>20</td>\n",
              "    </tr>\n",
              "    <tr>\n",
              "      <th>Reviews_int</th>\n",
              "      <td>float64</td>\n",
              "      <td>0</td>\n",
              "      <td>5999</td>\n",
              "    </tr>\n",
              "    <tr>\n",
              "      <th>Price_int</th>\n",
              "      <td>float64</td>\n",
              "      <td>0</td>\n",
              "      <td>92</td>\n",
              "    </tr>\n",
              "    <tr>\n",
              "      <th>Size_int</th>\n",
              "      <td>float64</td>\n",
              "      <td>0</td>\n",
              "      <td>274</td>\n",
              "    </tr>\n",
              "  </tbody>\n",
              "</table>\n",
              "</div>"
            ],
            "text/plain": [
              "               data_type  null_count  unique_count\n",
              "App               object           0          9648\n",
              "Category          object           0            33\n",
              "Rating           float64           0            40\n",
              "Reviews           object           0          5999\n",
              "Size              object           0           457\n",
              "Installs          object           0            20\n",
              "Type              object           0             2\n",
              "Price             object           0            92\n",
              "Content Rating    object           0             6\n",
              "Genres            object           0           119\n",
              "Last Updated      object           0          1376\n",
              "Current Ver       object           0          2831\n",
              "Android Ver       object           0            33\n",
              "Installs_int     float64           0            20\n",
              "Reviews_int      float64           0          5999\n",
              "Price_int        float64           0            92\n",
              "Size_int         float64           0           274"
            ]
          },
          "execution_count": 249,
          "metadata": {},
          "output_type": "execute_result"
        }
      ],
      "source": [
        "printinfo()"
      ]
    },
    {
      "cell_type": "markdown",
      "metadata": {
        "id": "18HISEc1sMkI"
      },
      "source": [
        "# Storing clean data into new dataframe"
      ]
    },
    {
      "cell_type": "code",
      "execution_count": null,
      "metadata": {
        "id": "oV078teSsMkI"
      },
      "outputs": [],
      "source": [
        "cdata=data[['App', 'Category', 'Rating', 'Type', 'Content Rating', 'Genres', 'Last Updated', 'Current Ver',\n",
        "       'Android Ver', 'Installs_int', 'Price_int', 'Reviews_int', 'Size_int','R_M_Install']]"
      ]
    },
    {
      "cell_type": "code",
      "execution_count": null,
      "metadata": {
        "id": "Y31vhfX9sMkI"
      },
      "outputs": [],
      "source": [
        "data['R_M_Install']=data['Rating']*data['Installs_int']"
      ]
    },
    {
      "cell_type": "code",
      "execution_count": null,
      "metadata": {
        "id": "Vhxpd1oIsMkI",
        "outputId": "b592e721-182f-40f9-ab54-ea6dd8fe2c47"
      },
      "outputs": [
        {
          "data": {
            "text/html": [
              "<div>\n",
              "<style scoped>\n",
              "    .dataframe tbody tr th:only-of-type {\n",
              "        vertical-align: middle;\n",
              "    }\n",
              "\n",
              "    .dataframe tbody tr th {\n",
              "        vertical-align: top;\n",
              "    }\n",
              "\n",
              "    .dataframe thead th {\n",
              "        text-align: right;\n",
              "    }\n",
              "</style>\n",
              "<table border=\"1\" class=\"dataframe\">\n",
              "  <thead>\n",
              "    <tr style=\"text-align: right;\">\n",
              "      <th></th>\n",
              "      <th>App</th>\n",
              "      <th>Category</th>\n",
              "      <th>Rating</th>\n",
              "      <th>Type</th>\n",
              "      <th>Content Rating</th>\n",
              "      <th>Genres</th>\n",
              "      <th>Last Updated</th>\n",
              "      <th>Current Ver</th>\n",
              "      <th>Android Ver</th>\n",
              "      <th>Installs_int</th>\n",
              "      <th>Price_int</th>\n",
              "      <th>Reviews_int</th>\n",
              "      <th>Size_int</th>\n",
              "      <th>R_M_Install</th>\n",
              "    </tr>\n",
              "  </thead>\n",
              "  <tbody>\n",
              "    <tr>\n",
              "      <th>0</th>\n",
              "      <td>Photo Editor &amp; Candy Camera &amp; Grid &amp; ScrapBook</td>\n",
              "      <td>ART_AND_DESIGN</td>\n",
              "      <td>4.1</td>\n",
              "      <td>Free</td>\n",
              "      <td>Everyone</td>\n",
              "      <td>Art &amp; Design</td>\n",
              "      <td>January 7, 2018</td>\n",
              "      <td>1.0.0</td>\n",
              "      <td>4.0.3 and up</td>\n",
              "      <td>10000.0</td>\n",
              "      <td>0.0</td>\n",
              "      <td>159.0</td>\n",
              "      <td>19.0</td>\n",
              "      <td>41000.0</td>\n",
              "    </tr>\n",
              "    <tr>\n",
              "      <th>1</th>\n",
              "      <td>Coloring book moana</td>\n",
              "      <td>ART_AND_DESIGN</td>\n",
              "      <td>3.9</td>\n",
              "      <td>Free</td>\n",
              "      <td>Everyone</td>\n",
              "      <td>Art &amp; Design;Pretend Play</td>\n",
              "      <td>January 15, 2018</td>\n",
              "      <td>2.0.0</td>\n",
              "      <td>4.0.3 and up</td>\n",
              "      <td>500000.0</td>\n",
              "      <td>0.0</td>\n",
              "      <td>967.0</td>\n",
              "      <td>14.0</td>\n",
              "      <td>1950000.0</td>\n",
              "    </tr>\n",
              "    <tr>\n",
              "      <th>2</th>\n",
              "      <td>U Launcher Lite – FREE Live Cool Themes, Hide ...</td>\n",
              "      <td>ART_AND_DESIGN</td>\n",
              "      <td>4.7</td>\n",
              "      <td>Free</td>\n",
              "      <td>Everyone</td>\n",
              "      <td>Art &amp; Design</td>\n",
              "      <td>August 1, 2018</td>\n",
              "      <td>1.2.4</td>\n",
              "      <td>4.0.3 and up</td>\n",
              "      <td>5000000.0</td>\n",
              "      <td>0.0</td>\n",
              "      <td>87510.0</td>\n",
              "      <td>8.7</td>\n",
              "      <td>23500000.0</td>\n",
              "    </tr>\n",
              "    <tr>\n",
              "      <th>3</th>\n",
              "      <td>Sketch - Draw &amp; Paint</td>\n",
              "      <td>ART_AND_DESIGN</td>\n",
              "      <td>4.5</td>\n",
              "      <td>Free</td>\n",
              "      <td>Teen</td>\n",
              "      <td>Art &amp; Design</td>\n",
              "      <td>June 8, 2018</td>\n",
              "      <td>Varies with device</td>\n",
              "      <td>4.2 and up</td>\n",
              "      <td>50000000.0</td>\n",
              "      <td>0.0</td>\n",
              "      <td>215644.0</td>\n",
              "      <td>25.0</td>\n",
              "      <td>225000000.0</td>\n",
              "    </tr>\n",
              "    <tr>\n",
              "      <th>4</th>\n",
              "      <td>Pixel Draw - Number Art Coloring Book</td>\n",
              "      <td>ART_AND_DESIGN</td>\n",
              "      <td>4.3</td>\n",
              "      <td>Free</td>\n",
              "      <td>Everyone</td>\n",
              "      <td>Art &amp; Design;Creativity</td>\n",
              "      <td>June 20, 2018</td>\n",
              "      <td>1.1</td>\n",
              "      <td>4.4 and up</td>\n",
              "      <td>100000.0</td>\n",
              "      <td>0.0</td>\n",
              "      <td>967.0</td>\n",
              "      <td>2.8</td>\n",
              "      <td>430000.0</td>\n",
              "    </tr>\n",
              "  </tbody>\n",
              "</table>\n",
              "</div>"
            ],
            "text/plain": [
              "                                                 App        Category  Rating  \\\n",
              "0     Photo Editor & Candy Camera & Grid & ScrapBook  ART_AND_DESIGN     4.1   \n",
              "1                                Coloring book moana  ART_AND_DESIGN     3.9   \n",
              "2  U Launcher Lite – FREE Live Cool Themes, Hide ...  ART_AND_DESIGN     4.7   \n",
              "3                              Sketch - Draw & Paint  ART_AND_DESIGN     4.5   \n",
              "4              Pixel Draw - Number Art Coloring Book  ART_AND_DESIGN     4.3   \n",
              "\n",
              "   Type Content Rating                     Genres      Last Updated  \\\n",
              "0  Free       Everyone               Art & Design   January 7, 2018   \n",
              "1  Free       Everyone  Art & Design;Pretend Play  January 15, 2018   \n",
              "2  Free       Everyone               Art & Design    August 1, 2018   \n",
              "3  Free           Teen               Art & Design      June 8, 2018   \n",
              "4  Free       Everyone    Art & Design;Creativity     June 20, 2018   \n",
              "\n",
              "          Current Ver   Android Ver  Installs_int  Price_int  Reviews_int  \\\n",
              "0               1.0.0  4.0.3 and up       10000.0        0.0        159.0   \n",
              "1               2.0.0  4.0.3 and up      500000.0        0.0        967.0   \n",
              "2               1.2.4  4.0.3 and up     5000000.0        0.0      87510.0   \n",
              "3  Varies with device    4.2 and up    50000000.0        0.0     215644.0   \n",
              "4                 1.1    4.4 and up      100000.0        0.0        967.0   \n",
              "\n",
              "   Size_int  R_M_Install  \n",
              "0      19.0      41000.0  \n",
              "1      14.0    1950000.0  \n",
              "2       8.7   23500000.0  \n",
              "3      25.0  225000000.0  \n",
              "4       2.8     430000.0  "
            ]
          },
          "execution_count": 294,
          "metadata": {},
          "output_type": "execute_result"
        }
      ],
      "source": [
        "cdata.head()"
      ]
    },
    {
      "cell_type": "code",
      "execution_count": null,
      "metadata": {
        "id": "CxxPscSGsMkJ"
      },
      "outputs": [],
      "source": [
        "a=cdata['R_M_Install'].max()"
      ]
    },
    {
      "cell_type": "code",
      "execution_count": null,
      "metadata": {
        "id": "VAAvdnaMsMkJ",
        "outputId": "05ed4fee-516d-4345-93a6-96884f957ec6"
      },
      "outputs": [
        {
          "data": {
            "image/png": "[encoded data removed]",
            "text/plain": [
              "<Figure size 720x360 with 1 Axes>"
            ]
          },
          "metadata": {
            "needs_background": "light"
          },
          "output_type": "display_data"
        }
      ],
      "source": [
        "d1=data.groupby('Rating').agg({'Size_int':'mean'})\n",
        "plt.scatter(data['Rating'],data[\"Size_int\"])\n",
        "plt.rcprams=(1,61)\n",
        "plt.show()"
      ]
    },
    {
      "cell_type": "code",
      "execution_count": null,
      "metadata": {
        "id": "JzftJiwbsMkJ",
        "outputId": "1eb398c4-74a5-4502-fe19-07f2771d884d"
      },
      "outputs": [
        {
          "data": {
            "text/plain": [
              "<AxesSubplot:xlabel='Category'>"
            ]
          },
          "execution_count": 315,
          "metadata": {},
          "output_type": "execute_result"
        },
        {
          "data": {
            "image/png": "[encoded data removed]",
            "text/plain": [
              "<Figure size 864x576 with 1 Axes>"
            ]
          },
          "metadata": {
            "needs_background": "light"
          },
          "output_type": "display_data"
        }
      ],
      "source": [
        "a=cdata.groupby('Category')['Installs_int'].sum().sort_values(ascending=False)\n",
        "a.plot(figsize=(12,8),kind='bar')"
      ]
    },
    {
      "cell_type": "code",
      "execution_count": null,
      "metadata": {
        "id": "XQ0p1AIYsMkJ",
        "outputId": "16ce73b3-2b3f-486d-9c17-81d8003ae356"
      },
      "outputs": [
        {
          "data": {
            "text/plain": [
              "<AxesSubplot:xlabel='Category'>"
            ]
          },
          "execution_count": 317,
          "metadata": {},
          "output_type": "execute_result"
        },
        {
          "data": {
            "image/png": "[encoded data removed]",
            "text/plain": [
              "<Figure size 864x576 with 1 Axes>"
            ]
          },
          "metadata": {
            "needs_background": "light"
          },
          "output_type": "display_data"
        }
      ],
      "source": [
        "cri=cdata.groupby('Category')['App'].count().sort_values(ascending=False)\n",
        "cri.plot(figsize=(12,8),kind='bar')"
      ]
    },
    {
      "cell_type": "code",
      "execution_count": null,
      "metadata": {
        "id": "4yOasxCesMkK",
        "outputId": "c748056a-0646-445c-aa8f-87a4ca015b4d"
      },
      "outputs": [
        {
          "data": {
            "text/plain": [
              "<AxesSubplot:xlabel='Category'>"
            ]
          },
          "execution_count": 324,
          "metadata": {},
          "output_type": "execute_result"
        },
        {
          "data": {
            "image/png": "[encoded data removed]",
            "text/plain": [
              "<Figure size 864x576 with 1 Axes>"
            ]
          },
          "metadata": {
            "needs_background": "light"
          },
          "output_type": "display_data"
        }
      ],
      "source": [
        "b=cdata.groupby('Category')['R_M_Install'].mean().sort_values(ascending=False)\n",
        "b.plot(figsize=(12,8),kind='bar')"
      ]
    }
  ],
  "metadata": {
    "colab": {
      "name": "Akshay Play Store App Review Analysis - Capstone Project.ipynb",
      "provenance": [],
      "collapsed_sections": [],
      "include_colab_link": true
    },
    "kernelspec": {
      "display_name": "Python 3 (ipykernel)",
      "language": "python",
      "name": "python3"
    },
    "language_info": {
      "codemirror_mode": {
        "name": "ipython",
        "version": 3
      },
      "file_extension": ".py",
      "mimetype": "text/x-python",
      "name": "python",
      "nbconvert_exporter": "python",
      "pygments_lexer": "ipython3",
      "version": "3.9.7"
    }
  },
  "nbformat": 4,
  "nbformat_minor": 0
}